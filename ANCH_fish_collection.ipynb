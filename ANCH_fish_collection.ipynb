{
 "cells": [
  {
   "cell_type": "code",
   "execution_count": 1,
   "metadata": {},
   "outputs": [],
   "source": [
    "import pandas as pd\n",
    "from urllib.request import urlopen\n",
    "from bs4 import BeautifulSoup"
   ]
  },
  {
   "cell_type": "code",
   "execution_count": 2,
   "metadata": {},
   "outputs": [],
   "source": [
    "# URL page we will scraping (see image above)\n",
    "url = \"https://www.gamespot.com/articles/animal-crossing-new-horizons-fish-guide-how-to-cat/1100-6474887/\"\n",
    "# this is the HTML from the given URL\n",
    "html = urlopen(url)\n",
    "soup = BeautifulSoup(html)\n",
    "rows = soup.findAll('tr')"
   ]
  },
  {
   "cell_type": "code",
   "execution_count": 49,
   "metadata": {},
   "outputs": [
    {
     "data": {
      "text/plain": [
       "['Angelfish', 'May - Oct', 'River', '4 PM - 9 AM', '3,000']"
      ]
     },
     "execution_count": 49,
     "metadata": {},
     "output_type": "execute_result"
    }
   ],
   "source": [
    "fish_list = []\n",
    "for x in rows[2].findAll('td'):\n",
    "    fish_list.append(x.getText())\n",
    "fish_list"
   ]
  },
  {
   "cell_type": "code",
   "execution_count": 74,
   "metadata": {},
   "outputs": [],
   "source": [
    "northern_hemisphere_df = pd.DataFrame({'fish': [], 'seasonality': [], 'location': [], 'time':[], 'price':[]})\n",
    "southern_hemisphere_df = pd.DataFrame({'fish': [], 'seasonality': [], 'location': [], 'time':[], 'price':[]})\n",
    "\n",
    "def add_to_df(row, df):\n",
    "    if df == 0:\n",
    "        northern_hemisphere_df_length = len(northern_hemisphere_df)\n",
    "        northern_hemisphere_df.loc[northern_hemisphere_df_length] = row\n",
    "    else:\n",
    "        southern_hemisphere_df_length = len(southern_hemisphere_df)\n",
    "        southern_hemisphere_df.loc[southern_hemisphere_df_length] = row"
   ]
  },
  {
   "cell_type": "code",
   "execution_count": 75,
   "metadata": {},
   "outputs": [],
   "source": [
    "current_df = 0\n",
    "for current_row in range(1, len(rows)):\n",
    "    row_content = rows[current_row].findAll('td')\n",
    "    if (len(row_content) == 0):\n",
    "        current_df = 1\n",
    "    else:\n",
    "        fish_list = []\n",
    "        for x in rows[current_row].findAll('td'):\n",
    "            fish_list.append(x.getText())\n",
    "\n",
    "        add_to_df(fish_list, current_df)\n",
    "    current_row += 1"
   ]
  },
  {
   "cell_type": "code",
   "execution_count": 78,
   "metadata": {},
   "outputs": [],
   "source": [
    "northern_hemisphere_df['seasonality'].apply(lambda x: x.replace(\",\", \" -\"))\n",
    "southern_hemisphere_df['seasonality'].apply(lambda x: x.replace(\",\", \" -\"))\n",
    "northern_hemisphere_df.to_json(r'nh_fish.json')\n",
    "southern_hemisphere_df.to_json(r'sh_fish.json')"
   ]
  },
  {
   "cell_type": "code",
   "execution_count": 80,
   "metadata": {},
   "outputs": [],
   "source": [
    "northern_hemisphere_df.to_csv('nh_fish.csv')\n",
    "southern_hemisphere_df.to_csv('sh_fish.csv')"
   ]
  },
  {
   "cell_type": "code",
   "execution_count": 87,
   "metadata": {},
   "outputs": [
    {
     "data": {
      "text/html": [
       "<div>\n",
       "<style scoped>\n",
       "    .dataframe tbody tr th:only-of-type {\n",
       "        vertical-align: middle;\n",
       "    }\n",
       "\n",
       "    .dataframe tbody tr th {\n",
       "        vertical-align: top;\n",
       "    }\n",
       "\n",
       "    .dataframe thead th {\n",
       "        text-align: right;\n",
       "    }\n",
       "</style>\n",
       "<table border=\"1\" class=\"dataframe\">\n",
       "  <thead>\n",
       "    <tr style=\"text-align: right;\">\n",
       "      <th></th>\n",
       "      <th>fish</th>\n",
       "      <th>seasonality</th>\n",
       "      <th>location</th>\n",
       "      <th>time</th>\n",
       "      <th>price</th>\n",
       "    </tr>\n",
       "  </thead>\n",
       "  <tbody>\n",
       "    <tr>\n",
       "      <th>0</th>\n",
       "      <td>Anchovy</td>\n",
       "      <td>All year</td>\n",
       "      <td>Ocean</td>\n",
       "      <td>4 AM - 9 PM</td>\n",
       "      <td>200</td>\n",
       "    </tr>\n",
       "    <tr>\n",
       "      <th>1</th>\n",
       "      <td>Angelfish</td>\n",
       "      <td>May - Oct</td>\n",
       "      <td>River</td>\n",
       "      <td>4 PM - 9 AM</td>\n",
       "      <td>3,000</td>\n",
       "    </tr>\n",
       "    <tr>\n",
       "      <th>2</th>\n",
       "      <td>Arapaima</td>\n",
       "      <td>June - Sept</td>\n",
       "      <td>River</td>\n",
       "      <td>4 PM - 9 AM</td>\n",
       "      <td>8,000</td>\n",
       "    </tr>\n",
       "    <tr>\n",
       "      <th>3</th>\n",
       "      <td>Arowana</td>\n",
       "      <td>June - Sept</td>\n",
       "      <td>River</td>\n",
       "      <td>4 PM - 9 AM</td>\n",
       "      <td>10,000</td>\n",
       "    </tr>\n",
       "    <tr>\n",
       "      <th>4</th>\n",
       "      <td>Barred Knifejaw</td>\n",
       "      <td>Mar - Nov</td>\n",
       "      <td>Ocean</td>\n",
       "      <td>All day</td>\n",
       "      <td>5,000</td>\n",
       "    </tr>\n",
       "    <tr>\n",
       "      <th>...</th>\n",
       "      <td>...</td>\n",
       "      <td>...</td>\n",
       "      <td>...</td>\n",
       "      <td>...</td>\n",
       "      <td>...</td>\n",
       "    </tr>\n",
       "    <tr>\n",
       "      <th>69</th>\n",
       "      <td>Tilapia</td>\n",
       "      <td>June - Oct</td>\n",
       "      <td>River</td>\n",
       "      <td>All day</td>\n",
       "      <td>800</td>\n",
       "    </tr>\n",
       "    <tr>\n",
       "      <th>70</th>\n",
       "      <td>Tuna</td>\n",
       "      <td>Nov - Apr</td>\n",
       "      <td>Pier</td>\n",
       "      <td>All day</td>\n",
       "      <td>7,000</td>\n",
       "    </tr>\n",
       "    <tr>\n",
       "      <th>71</th>\n",
       "      <td>Whale Shark</td>\n",
       "      <td>June - Sept</td>\n",
       "      <td>Ocean</td>\n",
       "      <td>All day</td>\n",
       "      <td>13,000</td>\n",
       "    </tr>\n",
       "    <tr>\n",
       "      <th>72</th>\n",
       "      <td>Yellow Perch</td>\n",
       "      <td>Oct - Mar</td>\n",
       "      <td>River</td>\n",
       "      <td>All day</td>\n",
       "      <td>300</td>\n",
       "    </tr>\n",
       "    <tr>\n",
       "      <th>73</th>\n",
       "      <td>Zebra Turkeyfish</td>\n",
       "      <td>April - May, July - Nov</td>\n",
       "      <td>Ocean</td>\n",
       "      <td>All day</td>\n",
       "      <td>500</td>\n",
       "    </tr>\n",
       "  </tbody>\n",
       "</table>\n",
       "<p>74 rows × 5 columns</p>\n",
       "</div>"
      ],
      "text/plain": [
       "                fish              seasonality location         time   price\n",
       "0            Anchovy                 All year    Ocean  4 AM - 9 PM     200\n",
       "1          Angelfish                May - Oct    River  4 PM - 9 AM   3,000\n",
       "2           Arapaima              June - Sept    River  4 PM - 9 AM   8,000\n",
       "3            Arowana              June - Sept    River  4 PM - 9 AM  10,000\n",
       "4    Barred Knifejaw                Mar - Nov    Ocean      All day   5,000\n",
       "..               ...                      ...      ...          ...     ...\n",
       "69           Tilapia               June - Oct    River      All day     800\n",
       "70              Tuna                Nov - Apr     Pier      All day   7,000\n",
       "71       Whale Shark              June - Sept    Ocean      All day  13,000\n",
       "72      Yellow Perch                Oct - Mar    River      All day     300\n",
       "73  Zebra Turkeyfish  April - May, July - Nov    Ocean      All day     500\n",
       "\n",
       "[74 rows x 5 columns]"
      ]
     },
     "execution_count": 87,
     "metadata": {},
     "output_type": "execute_result"
    }
   ],
   "source": [
    "northern_hemisphere_df"
   ]
  },
  {
   "cell_type": "code",
   "execution_count": 98,
   "metadata": {},
   "outputs": [],
   "source": [
    "def replace_comma(x):\n",
    "    to_return = ''\n",
    "    try:\n",
    "        to_return = x['seasonality'].replace(\",\", \" -\")\n",
    "    except:\n",
    "        to_return = x\n",
    "    finally:\n",
    "        print(x)\n",
    "        return 'hey'\n",
    "    "
   ]
  },
  {
   "cell_type": "code",
   "execution_count": 100,
   "metadata": {},
   "outputs": [
    {
     "data": {
      "text/plain": [
       "0                     All year\n",
       "1                    May - Oct\n",
       "2                  June - Sept\n",
       "3                  June - Sept\n",
       "4                    Mar - Nov\n",
       "                ...           \n",
       "69                  June - Oct\n",
       "70                   Nov - Apr\n",
       "71                 June - Sept\n",
       "72                   Oct - Mar\n",
       "73    April - May - July - Nov\n",
       "Name: seasonality, Length: 74, dtype: object"
      ]
     },
     "execution_count": 100,
     "metadata": {},
     "output_type": "execute_result"
    }
   ],
   "source": []
  },
  {
   "cell_type": "code",
   "execution_count": null,
   "metadata": {},
   "outputs": [],
   "source": []
  }
 ],
 "metadata": {
  "kernelspec": {
   "display_name": "Python nba_classify",
   "language": "python",
   "name": "nba_classifier"
  },
  "language_info": {
   "codemirror_mode": {
    "name": "ipython",
    "version": 3
   },
   "file_extension": ".py",
   "mimetype": "text/x-python",
   "name": "python",
   "nbconvert_exporter": "python",
   "pygments_lexer": "ipython3",
   "version": "3.6.10"
  }
 },
 "nbformat": 4,
 "nbformat_minor": 2
}
