{
 "cells": [
  {
   "cell_type": "code",
   "execution_count": 1,
   "metadata": {},
   "outputs": [],
   "source": [
    "import pandas as pd\n",
    "from urllib.request import urlopen\n",
    "from bs4 import BeautifulSoup"
   ]
  },
  {
   "cell_type": "code",
   "execution_count": 2,
   "metadata": {},
   "outputs": [],
   "source": [
    "# URL page we will scraping (see image above)\n",
    "url = \"https://www.gamespot.com/articles/animal-crossing-new-horizons-fish-guide-how-to-cat/1100-6474887/\"\n",
    "# this is the HTML from the given URL\n",
    "html = urlopen(url)\n",
    "soup = BeautifulSoup(html)\n",
    "rows = soup.findAll('tr')"
   ]
  },
  {
   "cell_type": "code",
   "execution_count": 49,
   "metadata": {},
   "outputs": [
    {
     "data": {
      "text/plain": [
       "['Angelfish', 'May - Oct', 'River', '4 PM - 9 AM', '3,000']"
      ]
     },
     "execution_count": 49,
     "metadata": {},
     "output_type": "execute_result"
    }
   ],
   "source": [
    "fish_list = []\n",
    "for x in rows[2].findAll('td'):\n",
    "    fish_list.append(x.getText())\n",
    "fish_list"
   ]
  },
  {
   "cell_type": "code",
   "execution_count": 74,
   "metadata": {},
   "outputs": [],
   "source": [
    "northern_hemisphere_df = pd.DataFrame({'fish': [], 'seasonality': [], 'location': [], 'time':[], 'price':[]})\n",
    "southern_hemisphere_df = pd.DataFrame({'fish': [], 'seasonality': [], 'location': [], 'time':[], 'price':[]})\n",
    "\n",
    "def add_to_df(row, df):\n",
    "    if df == 0:\n",
    "        northern_hemisphere_df_length = len(northern_hemisphere_df)\n",
    "        northern_hemisphere_df.loc[northern_hemisphere_df_length] = row\n",
    "    else:\n",
    "        southern_hemisphere_df_length = len(southern_hemisphere_df)\n",
    "        southern_hemisphere_df.loc[southern_hemisphere_df_length] = row"
   ]
  },
  {
   "cell_type": "code",
   "execution_count": 75,
   "metadata": {},
   "outputs": [],
   "source": [
    "current_df = 0\n",
    "for current_row in range(1, len(rows)):\n",
    "    row_content = rows[current_row].findAll('td')\n",
    "    if (len(row_content) == 0):\n",
    "        current_df = 1\n",
    "    else:\n",
    "        fish_list = []\n",
    "        for x in rows[current_row].findAll('td'):\n",
    "            fish_list.append(x.getText())\n",
    "\n",
    "        add_to_df(fish_list, current_df)\n",
    "    current_row += 1"
   ]
  },
  {
   "cell_type": "code",
   "execution_count": 78,
   "metadata": {},
   "outputs": [],
   "source": [
    "northern_hemisphere_df.to_json(r'nh_fish.json')\n",
    "southern_hemisphere_df.to_json(r'sh_fish.json')"
   ]
  },
  {
   "cell_type": "code",
   "execution_count": 80,
   "metadata": {},
   "outputs": [],
   "source": [
    "northern_hemisphere_df.to_csv('nh_fish.csv')\n",
    "southern_hemisphere_df.to_csv('sh_fish.csv')"
   ]
  },
  {
   "cell_type": "code",
   "execution_count": null,
   "metadata": {},
   "outputs": [],
   "source": []
  }
 ],
 "metadata": {
  "kernelspec": {
   "display_name": "Python nba_classify",
   "language": "python",
   "name": "nba_classifier"
  },
  "language_info": {
   "codemirror_mode": {
    "name": "ipython",
    "version": 3
   },
   "file_extension": ".py",
   "mimetype": "text/x-python",
   "name": "python",
   "nbconvert_exporter": "python",
   "pygments_lexer": "ipython3",
   "version": "3.6.10"
  }
 },
 "nbformat": 4,
 "nbformat_minor": 2
}
