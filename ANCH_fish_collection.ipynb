{
 "cells": [
  {
   "cell_type": "code",
   "execution_count": 2,
   "metadata": {},
   "outputs": [],
   "source": [
    "import pandas as pd\n",
    "from urllib.request import urlopen\n",
    "from bs4 import BeautifulSoup"
   ]
  },
  {
   "cell_type": "code",
   "execution_count": 3,
   "metadata": {},
   "outputs": [],
   "source": [
    "# URL page we will scraping (see image above)\n",
    "url = \"https://www.gamespot.com/articles/animal-crossing-new-horizons-fish-guide-how-to-cat/1100-6474887/\"\n",
    "# this is the HTML from the given URL\n",
    "html = urlopen(url)\n",
    "soup = BeautifulSoup(html)\n",
    "rows = soup.findAll('tr')"
   ]
  },
  {
   "cell_type": "code",
   "execution_count": 49,
   "metadata": {},
   "outputs": [
    {
     "data": {
      "text/plain": [
       "['Angelfish', 'May - Oct', 'River', '4 PM - 9 AM', '3,000']"
      ]
     },
     "execution_count": 49,
     "metadata": {},
     "output_type": "execute_result"
    }
   ],
   "source": [
    "fish_list = []\n",
    "for x in rows[2].findAll('td'):\n",
    "    fish_list.append(x.getText())\n",
    "fish_list"
   ]
  },
  {
   "cell_type": "code",
   "execution_count": 4,
   "metadata": {},
   "outputs": [],
   "source": [
    "northern_hemisphere_df = pd.DataFrame({'fish': [], 'seasonality': [], 'location': [], 'time':[], 'price':[]})\n",
    "southern_hemisphere_df = pd.DataFrame({'fish': [], 'seasonality': [], 'location': [], 'time':[], 'price':[]})\n",
    "\n",
    "def add_to_df(row, df):\n",
    "    if df == 0:\n",
    "        northern_hemisphere_df_length = len(northern_hemisphere_df)\n",
    "        northern_hemisphere_df.loc[northern_hemisphere_df_length] = row\n",
    "    else:\n",
    "        southern_hemisphere_df_length = len(southern_hemisphere_df)\n",
    "        southern_hemisphere_df.loc[southern_hemisphere_df_length] = row"
   ]
  },
  {
   "cell_type": "code",
   "execution_count": 5,
   "metadata": {},
   "outputs": [],
   "source": [
    "current_df = 0\n",
    "for current_row in range(1, len(rows)):\n",
    "    row_content = rows[current_row].findAll('td')\n",
    "    if (len(row_content) == 0):\n",
    "        current_df = 1\n",
    "    else:\n",
    "        fish_list = []\n",
    "        for x in rows[current_row].findAll('td'):\n",
    "            fish_list.append(x.getText())\n",
    "\n",
    "        add_to_df(fish_list, current_df)\n",
    "    current_row += 1"
   ]
  },
  {
   "cell_type": "code",
   "execution_count": 6,
   "metadata": {},
   "outputs": [],
   "source": [
    "northern_hemisphere_df['seasonality'] = northern_hemisphere_df['seasonality'].apply(lambda x: x.replace(\",\", \" -\"))\n",
    "southern_hemisphere_df['seasonality'] = southern_hemisphere_df['seasonality'].apply(lambda x: x.replace(\",\", \" -\"))\n",
    "northern_hemisphere_df.to_json(r'nh_fish.json')\n",
    "southern_hemisphere_df.to_json(r'sh_fish.json')"
   ]
  },
  {
   "cell_type": "code",
   "execution_count": 80,
   "metadata": {},
   "outputs": [],
   "source": [
    "northern_hemisphere_df.to_csv('nh_fish.csv')\n",
    "southern_hemisphere_df.to_csv('sh_fish.csv')"
   ]
  },
  {
   "cell_type": "code",
   "execution_count": 9,
   "metadata": {},
   "outputs": [
    {
     "name": "stdout",
     "output_type": "stream",
     "text": [
      "All year\n",
      "May - Oct\n",
      "June - Sept\n",
      "June - Sept\n",
      "Mar - Nov\n",
      "All year\n",
      "May - Oct\n",
      "Nov - Mar\n",
      "All year\n",
      "Nov - Feb\n",
      "Nov - Apr - July - Sept\n",
      "All year\n",
      "Apr - Sept\n",
      "All year\n",
      "May - Oct\n",
      "Mar - June - Sept - Nov\n",
      "Mar - June - Sept - Nov\n",
      "Apr - Sept\n",
      "All year\n",
      "Apr - Sept\n",
      "All year\n",
      "Oct - Apr\n",
      "All year\n",
      "June - Sept\n",
      "Nov - Mar\n",
      "All year\n",
      "June - Sept\n",
      "Mar - May - Sept - Nov\n",
      "All year\n",
      "June - Sept\n",
      "Apr - Nov\n",
      "June - Sept\n",
      "All year\n",
      "Apr - Aug\n",
      "Sept\n",
      "All year\n",
      "Mar - May\n",
      "Sept - Nov\n",
      "Aug - Oct\n",
      "Apr - Nov\n",
      "May - Sept\n",
      "Dec - May\n",
      "July - Sept\n",
      "All year\n",
      "All year\n",
      "Sept - Dec\n",
      "June - Sept\n",
      "Dec - Feb\n",
      "All year\n",
      "July - Sept\n",
      "May - Oct\n",
      "All year\n",
      "Aug - Nov\n",
      "All year\n",
      "July - Oct\n",
      "Sept\n",
      "June - Sept\n",
      "All year\n",
      "Dec - Mar\n",
      "Apr - Nov\n",
      "Apr - Oct\n",
      "Aug - Sept\n",
      "Dec - Aug\n",
      "Dec - Mar\n",
      "Sept - Mar\n",
      "June - Sept\n",
      "Apr - Sept\n",
      "July - Sept\n",
      "Mar - July\n",
      "June - Oct\n",
      "Nov - Apr\n",
      "June - Sept\n",
      "Oct - Mar\n",
      "April - May - July - Nov\n"
     ]
    }
   ],
   "source": [
    "for x in northern_hemisphere_df['seasonality']:\n",
    "    print (x)"
   ]
  },
  {
   "cell_type": "code",
   "execution_count": 98,
   "metadata": {},
   "outputs": [],
   "source": [
    "def replace_comma(x):\n",
    "    to_return = ''\n",
    "    try:\n",
    "        to_return = x['seasonality'].replace(\",\", \" -\")\n",
    "    except:\n",
    "        to_return = x\n",
    "    finally:\n",
    "        print(x)\n",
    "        return 'hey'\n",
    "    "
   ]
  },
  {
   "cell_type": "code",
   "execution_count": 100,
   "metadata": {},
   "outputs": [
    {
     "data": {
      "text/plain": [
       "0                     All year\n",
       "1                    May - Oct\n",
       "2                  June - Sept\n",
       "3                  June - Sept\n",
       "4                    Mar - Nov\n",
       "                ...           \n",
       "69                  June - Oct\n",
       "70                   Nov - Apr\n",
       "71                 June - Sept\n",
       "72                   Oct - Mar\n",
       "73    April - May - July - Nov\n",
       "Name: seasonality, Length: 74, dtype: object"
      ]
     },
     "execution_count": 100,
     "metadata": {},
     "output_type": "execute_result"
    }
   ],
   "source": []
  },
  {
   "cell_type": "code",
   "execution_count": null,
   "metadata": {},
   "outputs": [],
   "source": []
  }
 ],
 "metadata": {
  "kernelspec": {
   "display_name": "Python nba_classify",
   "language": "python",
   "name": "nba_classifier"
  },
  "language_info": {
   "codemirror_mode": {
    "name": "ipython",
    "version": 3
   },
   "file_extension": ".py",
   "mimetype": "text/x-python",
   "name": "python",
   "nbconvert_exporter": "python",
   "pygments_lexer": "ipython3",
   "version": "3.6.10"
  }
 },
 "nbformat": 4,
 "nbformat_minor": 2
}
